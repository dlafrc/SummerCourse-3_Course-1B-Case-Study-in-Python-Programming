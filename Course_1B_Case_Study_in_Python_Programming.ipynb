{
  "nbformat": 4,
  "nbformat_minor": 0,
  "metadata": {
    "colab": {
      "provenance": []
    },
    "kernelspec": {
      "name": "python3",
      "display_name": "Python 3"
    },
    "language_info": {
      "name": "python"
    }
  },
  "cells": [
    {
      "cell_type": "markdown",
      "source": [
        "**First Case Study: Miles Per Gallon**\n",
        "\n",
        "\n",
        "\n",
        "*   Drivers are concerned with the mileage obtained by their automobiles. One driver has kept track of several tankfuls of gasoline\n",
        "by recording miles driven and gallons used for each tankful. Develop a sentinel-controlled-repetition script that prompts the\n",
        "user to input the miles driven and gallons used for each tankful.\n",
        "\n",
        "*   The script should calculate and display the miles per gallon obtained for each tankful. After processing all input information, the\n",
        "script should calculate and display the combined miles per gallon obtained for all tankfuls (that is, total miles driven divided by\n",
        "total gallons used).\n",
        "\n",
        "*   Requirment Output of The Program : In the PDF\n",
        "\n",
        "\n",
        "\n",
        "\n"
      ],
      "metadata": {
        "id": "kJnCk8x6RHpJ"
      }
    },
    {
      "cell_type": "code",
      "execution_count": null,
      "metadata": {
        "id": "ItGoDilvQlIt",
        "colab": {
          "base_uri": "https://localhost:8080/"
        },
        "outputId": "65fb1078-a2c3-40b1-dc75-4ebff1a85c8c"
      },
      "outputs": [
        {
          "output_type": "stream",
          "name": "stdout",
          "text": [
            "Enter the gallons used (-1 to end): 12.8\n",
            "Enter the miles driven: 287\n",
            "The miles/gallon for this tank was 22.421875\n",
            "Enter the gallons used (-1 to end): 10.3\n",
            "Enter the miles driven: 200\n",
            "The miles/gallon for this tank was 19.417476\n",
            "Enter the gallons used (-1 to end): 5\n",
            "Enter the miles driven: 120\n",
            "The miles/gallon for this tank was 24.000000\n",
            "Enter the gallons used (-1 to end): 24.000000\n",
            "Enter the miles driven: -1\n",
            "The miles/gallon for this tank was -0.041667\n",
            "Enter the gallons used (-1 to end): -0.041667\n",
            "Enter the miles driven: -1\n",
            "The miles/gallon for this tank was 23.999808\n"
          ]
        }
      ],
      "source": [
        "def main():\n",
        "    total_gallons = 0.0\n",
        "    total_miles = 0.0\n",
        "\n",
        "    while True:\n",
        "        gallons = float(input(\"Enter the gallons used (-1 to end): \"))\n",
        "        if gallons == -1:  # loop that terminates at -1\n",
        "            break\n",
        "        miles = float(input(\"Enter the miles driven: \"))\n",
        "\n",
        "        miles_per_gallon = miles / gallons\n",
        "        print(f\"The miles/gallon for this tank was {miles_per_gallon:.6f}\")\n",
        "\n",
        "        total_gallons += gallons\n",
        "        total_miles += miles\n",
        "\n",
        "    if total_gallons > 0:  # Avoid division by zero\n",
        "        combined_miles_per_gallon = total_miles / total_gallons\n",
        "        print(f\"The combined miles/gallon for all tankfuls was {combined_miles_per_gallon:.6f}\")\n",
        "    else:\n",
        "        print(\"No data to calculate combined miles/gallon.\")\n",
        "\n",
        "if __name__ == \"__main__\":\n",
        "    main()\n"
      ]
    },
    {
      "cell_type": "markdown",
      "source": [
        "**Second Case Study : A Game of 2 Chance - Crap**\n",
        "\n",
        "*   You roll two six-sided dice, each with faces containing one, two, three, four, five and six spots, respectively.\n",
        "When the dice come to rest, the sum of the spots on the two upward faces is calculated.\n",
        "*   If the sum is 7 or 11 on the first roll, you win. If the sum is 2, 3 or 12 on the first roll (called “craps”), you lose\n",
        "(i.e., the “house” wins).\n",
        "*   If the sum is 4, 5, 6, 8, 9 or 10 on the first roll, that sum becomes your “point.” To win, you must continue\n",
        "rolling the dice until you “make your point” (i.e., roll that same point value). You lose by rolling a 7 before\n",
        "making your point.\n"
      ],
      "metadata": {
        "id": "crfKf6IQSK5O"
      }
    },
    {
      "cell_type": "code",
      "source": [
        "import random\n",
        "\n",
        "def roll_dice():\n",
        "    \"\"\"Simulate rolling two six-sided dice and return their sum.\"\"\"\n",
        "    die1 = random.randint(1, 6)\n",
        "    die2 = random.randint(1, 6)\n",
        "    return die1 + die2\n",
        "\n",
        "def play_craps():\n",
        "    \"\"\"Simulate a game of Craps.\"\"\"\n",
        "    first_roll = roll_dice()\n",
        "    print(f\"First roll: {first_roll}\")\n",
        "\n",
        "    if first_roll in [7, 11]:\n",
        "        print(\"You win!\")\n",
        "    elif first_roll in [2, 3, 12]:\n",
        "        print(\"Craps! You lose.\")\n",
        "    else:\n",
        "        point = first_roll\n",
        "        print(f\"Your point is: {point}\")\n",
        "        while True:\n",
        "            roll = roll_dice()\n",
        "            print(f\"Rolled: {roll}\")\n",
        "            if roll == point:\n",
        "                print(\"You made your point! You win!\")\n",
        "                break\n",
        "            elif roll == 7:\n",
        "                print(\"You rolled a 7 before making your point. You lose.\")\n",
        "                break\n",
        "\n",
        "if __name__ == \"__main__\":\n",
        "    play_craps()\n"
      ],
      "metadata": {
        "id": "YJNCTsbxSdrw",
        "colab": {
          "base_uri": "https://localhost:8080/"
        },
        "outputId": "c876ac13-b6e3-4600-dfab-3a2f81aef743"
      },
      "execution_count": null,
      "outputs": [
        {
          "output_type": "stream",
          "name": "stdout",
          "text": [
            "First roll: 9\n",
            "Your point is: 9\n",
            "Rolled: 3\n",
            "Rolled: 2\n",
            "Rolled: 5\n",
            "Rolled: 5\n",
            "Rolled: 6\n",
            "Rolled: 9\n",
            "You made your point! You win!\n"
          ]
        }
      ]
    },
    {
      "cell_type": "markdown",
      "source": [
        "**Third Case Study : COVID 19 Infection Statistic**\n",
        "*   (COVID-19 Infection Statistics) During the first 20 days of the COVID-19 pandemic, the number of newly infected patients per day in a country were recorded.\n",
        "*   Place the following numbers in a list: 174, 335, 278, 214, 422, 513, 737, 672, 489, 412, 1301, 1105, 1123, 1376, 1502, 894,665, 1704, 1656, 1342 Use the built-in functions in the statistics module to display the following statistics concerning the infection rate: minimum, maximum, range, mean, median, variance, and standard deviation.\n",
        "\n"
      ],
      "metadata": {
        "id": "NuSll31qSeGH"
      }
    },
    {
      "cell_type": "code",
      "source": [
        "import statistics\n",
        "\n",
        "# COVID-19 infection data over 20 days\n",
        "infection_numbers = [174, 335, 278, 214, 422, 513, 737, 672, 489, 412, 1301, 1105, 1123, 1376, 1502, 894, 665, 1704, 1656, 1342]\n",
        "\n",
        "# Calculate statistics\n",
        "minimum = min(infection_numbers)\n",
        "maximum = max(infection_numbers)\n",
        "range_ = maximum - minimum\n",
        "mean = statistics.mean(infection_numbers)\n",
        "median = statistics.median(infection_numbers)\n",
        "variance = statistics.variance(infection_numbers)\n",
        "stdev = statistics.stdev(infection_numbers)\n",
        "\n",
        "# Display statistics\n",
        "print(\"COVID-19 Infection Statistics:\")\n",
        "print(f\"Minimum: {minimum}\")\n",
        "print(f\"Maximum: {maximum}\")\n",
        "print(f\"Range: {range_}\")\n",
        "print(f\"Mean: {mean}\")\n",
        "print(f\"Median: {median}\")\n",
        "print(f\"Variance: {variance}\")\n",
        "print(f\"Standard Deviation: {stdev}\")"
      ],
      "metadata": {
        "id": "YDUxLm_5SqQr",
        "colab": {
          "base_uri": "https://localhost:8080/"
        },
        "outputId": "bfe67d5d-051d-4463-95cd-6bfaacef0d54"
      },
      "execution_count": null,
      "outputs": [
        {
          "output_type": "stream",
          "name": "stdout",
          "text": [
            "COVID-19 Infection Statistics:\n",
            "Minimum: 174\n",
            "Maximum: 1704\n",
            "Range: 1530\n",
            "Mean: 845.7\n",
            "Median: 704.5\n",
            "Variance: 253620.74736842106\n",
            "Standard Deviation: 503.60773164082883\n"
          ]
        }
      ]
    }
  ]
}